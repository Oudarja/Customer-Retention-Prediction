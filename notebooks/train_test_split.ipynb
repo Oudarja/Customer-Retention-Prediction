{
 "cells": [
  {
   "cell_type": "code",
   "execution_count": 49,
   "id": "45c3d95b",
   "metadata": {},
   "outputs": [],
   "source": [
    "import sys\n",
    "import os\n",
    "import pandas as pd\n",
    "# Add your project folder path to sys.path\n",
    "sys.path.append(os.path.abspath(\"F:/Customer-Retention-Prediction\"))"
   ]
  },
  {
   "cell_type": "code",
   "execution_count": 50,
   "id": "994c6ab8",
   "metadata": {},
   "outputs": [],
   "source": [
    "from utils.utils import load_data , save_model_or_data\n",
    "from src.data_preprocessing import scale_features_stdscale,scale_features_minmax\n",
    "from sklearn.model_selection import train_test_split"
   ]
  },
  {
   "cell_type": "code",
   "execution_count": 51,
   "id": "94fd9294",
   "metadata": {},
   "outputs": [
    {
     "name": "stdout",
     "output_type": "stream",
     "text": [
      "Train shape: (640, 13)\n",
      "Validation shape: (160, 13)\n",
      "Test shape: (200, 13)\n"
     ]
    }
   ],
   "source": [
    "# Example\n",
    "df = load_data(\"F:\\\\Customer-Retention-Prediction\\\\data\\\\Processed_data\\\\processed_data.csv\")\n",
    "features_to_train = [col for col in df.columns if col != 'Target_Churn' and col != 'Customer_ID']\n",
    "X = df[features_to_train]\n",
    "y = df['Target_Churn']\n",
    "X_temp, X_test, y_temp, y_test = train_test_split(X, y, test_size=0.2, random_state=42)\n",
    "X_train, X_val, y_train, y_val = train_test_split(X_temp, y_temp, test_size=0.2, random_state=42)   \n",
    "print(\"Train shape:\", X_train.shape)\n",
    "print(\"Validation shape:\", X_val.shape)     \n",
    "print(\"Test shape:\", X_test.shape)"
   ]
  },
  {
   "cell_type": "code",
   "execution_count": 52,
   "id": "668d4327",
   "metadata": {},
   "outputs": [],
   "source": [
    "X_train_scaled = scale_features_minmax(X_train)\n",
    "X_val_scaled = scale_features_minmax(X_val)\n",
    "X_test_scaled = scale_features_minmax(X_test)"
   ]
  },
  {
   "cell_type": "code",
   "execution_count": 53,
   "id": "785a0812",
   "metadata": {},
   "outputs": [
    {
     "name": "stdout",
     "output_type": "stream",
     "text": [
      "False\n"
     ]
    }
   ],
   "source": [
    "print(isinstance(X_train_scaled, pd.DataFrame))"
   ]
  },
  {
   "cell_type": "code",
   "execution_count": 54,
   "id": "a57d90d8",
   "metadata": {},
   "outputs": [
    {
     "data": {
      "text/plain": [
       "tuple"
      ]
     },
     "execution_count": 54,
     "metadata": {},
     "output_type": "execute_result"
    }
   ],
   "source": [
    "type(X_train_scaled)"
   ]
  },
  {
   "cell_type": "code",
   "execution_count": 55,
   "id": "201d348c",
   "metadata": {},
   "outputs": [
    {
     "data": {
      "text/plain": [
       "pandas.core.series.Series"
      ]
     },
     "execution_count": 55,
     "metadata": {},
     "output_type": "execute_result"
    }
   ],
   "source": [
    "type(y_train)"
   ]
  },
  {
   "cell_type": "code",
   "execution_count": 56,
   "id": "e7d33fc3",
   "metadata": {},
   "outputs": [],
   "source": [
    "feature_names = X_train.columns\n",
    "X_train_scaled_df = pd.DataFrame(X_train_scaled[0], columns=feature_names)\n",
    "X_val_scaled_df = pd.DataFrame(X_val_scaled[0], columns=feature_names)\n",
    "X_test_scaled_df = pd.DataFrame(X_test_scaled[0], columns=feature_names)"
   ]
  },
  {
   "cell_type": "code",
   "execution_count": 57,
   "id": "8aec8a3c",
   "metadata": {},
   "outputs": [
    {
     "data": {
      "text/plain": [
       "pandas.core.frame.DataFrame"
      ]
     },
     "execution_count": 57,
     "metadata": {},
     "output_type": "execute_result"
    }
   ],
   "source": [
    "type(X_train_scaled_df)"
   ]
  },
  {
   "cell_type": "code",
   "execution_count": 58,
   "id": "b0eec8db",
   "metadata": {},
   "outputs": [
    {
     "name": "stdout",
     "output_type": "stream",
     "text": [
      "✅ DataFrame saved at F:\\Customer-Retention-Prediction\\data\\Processed_data\\X_train_scaled.csv\n",
      "✅ DataFrame saved at F:\\Customer-Retention-Prediction\\data\\Processed_data\\X_val_scaled.csv\n",
      "✅ DataFrame saved at F:\\Customer-Retention-Prediction\\data\\Processed_data\\X_test_scaled.csv\n"
     ]
    }
   ],
   "source": [
    "save_model_or_data(X_train_scaled_df,\"F:\\\\Customer-Retention-Prediction\\\\data\\\\Processed_data\\\\X_train_scaled.csv\")\n",
    "save_model_or_data(X_val_scaled_df,\"F:\\\\Customer-Retention-Prediction\\\\data\\\\Processed_data\\\\X_val_scaled.csv\")\n",
    "save_model_or_data(X_test_scaled_df,\"F:\\\\Customer-Retention-Prediction\\\\data\\\\Processed_data\\\\X_test_scaled.csv\")  "
   ]
  },
  {
   "cell_type": "code",
   "execution_count": 59,
   "id": "1b793f37",
   "metadata": {},
   "outputs": [],
   "source": [
    "y_train=pd.DataFrame(y_train).reset_index(drop=True)\n",
    "y_val=pd.DataFrame(y_val).reset_index(drop=True)\n",
    "y_test=pd.DataFrame(y_test).reset_index(drop=True)"
   ]
  },
  {
   "cell_type": "code",
   "execution_count": 60,
   "id": "1fb33f9e",
   "metadata": {},
   "outputs": [
    {
     "name": "stdout",
     "output_type": "stream",
     "text": [
      "✅ DataFrame saved at F:\\Customer-Retention-Prediction\\data\\Processed_data\\y_train.csv\n",
      "✅ DataFrame saved at F:\\Customer-Retention-Prediction\\data\\Processed_data\\y_val.csv\n",
      "✅ DataFrame saved at F:\\Customer-Retention-Prediction\\data\\Processed_data\\y_test.csv\n"
     ]
    }
   ],
   "source": [
    "save_model_or_data(y_train,\"F:\\\\Customer-Retention-Prediction\\\\data\\\\Processed_data\\\\y_train.csv\")\n",
    "save_model_or_data(y_val,\"F:\\\\Customer-Retention-Prediction\\\\data\\\\Processed_data\\\\y_val.csv\")\n",
    "save_model_or_data(y_test,\"F:\\\\Customer-Retention-Prediction\\\\data\\\\Processed_data\\\\y_test.csv\")"
   ]
  },
  {
   "cell_type": "markdown",
   "id": "3a359b57",
   "metadata": {},
   "source": [
    "##### For advanced model ANN (deep learning model gives better performance in minmax scaler)"
   ]
  },
  {
   "cell_type": "code",
   "execution_count": 61,
   "id": "3a10f999",
   "metadata": {},
   "outputs": [],
   "source": [
    "X_train_scaled_minmax = scale_features_minmax(X_train)\n",
    "X_val_scaled_minmax = scale_features_minmax(X_val)\n",
    "X_test_scaled_minmax = scale_features_minmax(X_test)"
   ]
  },
  {
   "cell_type": "code",
   "execution_count": 62,
   "id": "17e612dd",
   "metadata": {},
   "outputs": [],
   "source": [
    "X_train_scaled_minmax=pd.DataFrame(X_train_scaled_minmax[0], columns=feature_names)\n",
    "X_val_scaled_minmax=pd.DataFrame(X_val_scaled_minmax[0], columns=feature_names)\n",
    "X_test_scaled_minmax=pd.DataFrame(X_test_scaled_minmax[0], columns=feature_names)"
   ]
  },
  {
   "cell_type": "code",
   "execution_count": 63,
   "id": "c99286f3",
   "metadata": {},
   "outputs": [
    {
     "name": "stdout",
     "output_type": "stream",
     "text": [
      "✅ DataFrame saved at F:\\Customer-Retention-Prediction\\data\\Processed_data\\X_train_scaled_minmax.csv\n",
      "✅ DataFrame saved at F:\\Customer-Retention-Prediction\\data\\Processed_data\\X_val_scaled_minmax.csv\n",
      "✅ DataFrame saved at F:\\Customer-Retention-Prediction\\data\\Processed_data\\X_test_scaled_minmax.csv\n"
     ]
    }
   ],
   "source": [
    "save_model_or_data(X_train_scaled_minmax, \"F:\\\\Customer-Retention-Prediction\\\\data\\\\Processed_data\\\\X_train_scaled_minmax.csv\")\n",
    "save_model_or_data(X_val_scaled_minmax, \"F:\\\\Customer-Retention-Prediction\\\\data\\\\Processed_data\\\\X_val_scaled_minmax.csv\")\n",
    "save_model_or_data(X_test_scaled_minmax, \"F:\\\\Customer-Retention-Prediction\\\\data\\\\Processed_data\\\\X_test_scaled_minmax.csv\")"
   ]
  },
  {
   "cell_type": "code",
   "execution_count": 64,
   "id": "3eb79fe7",
   "metadata": {},
   "outputs": [
    {
     "name": "stdout",
     "output_type": "stream",
     "text": [
      "✅ DataFrame saved at F:\\Customer-Retention-Prediction\\data\\Processed_data\\y_train_scaled_minmax.csv\n",
      "✅ DataFrame saved at F:\\Customer-Retention-Prediction\\data\\Processed_data\\y_val_scaled_minmax.csv\n",
      "✅ DataFrame saved at F:\\Customer-Retention-Prediction\\data\\Processed_data\\y_test_scaled_minmax.csv\n"
     ]
    }
   ],
   "source": [
    "save_model_or_data(y_train, \"F:\\\\Customer-Retention-Prediction\\\\data\\\\Processed_data\\\\y_train_scaled_minmax.csv\")\n",
    "save_model_or_data(y_val, \"F:\\\\Customer-Retention-Prediction\\\\data\\\\Processed_data\\\\y_val_scaled_minmax.csv\")\n",
    "save_model_or_data(y_test, \"F:\\\\Customer-Retention-Prediction\\\\data\\\\Processed_data\\\\y_test_scaled_minmax.csv\")"
   ]
  }
 ],
 "metadata": {
  "kernelspec": {
   "display_name": ".venv",
   "language": "python",
   "name": "python3"
  },
  "language_info": {
   "codemirror_mode": {
    "name": "ipython",
    "version": 3
   },
   "file_extension": ".py",
   "mimetype": "text/x-python",
   "name": "python",
   "nbconvert_exporter": "python",
   "pygments_lexer": "ipython3",
   "version": "3.9.13"
  }
 },
 "nbformat": 4,
 "nbformat_minor": 5
}
